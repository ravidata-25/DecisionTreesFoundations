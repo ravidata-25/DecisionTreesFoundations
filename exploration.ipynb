{
 "cells": [
  {
   "cell_type": "code",
   "execution_count": null,
   "id": "f34f9a79",
   "metadata": {},
   "outputs": [],
   "source": [
    "pip install plotly"
   ]
  },
  {
   "cell_type": "code",
   "execution_count": null,
   "metadata": {},
   "outputs": [],
   "source": [
    "pip install plotly_express"
   ]
  },
  {
   "cell_type": "code",
   "execution_count": null,
   "id": "4c6e717f",
   "metadata": {},
   "outputs": [],
   "source": [
    "import pandas as pd\n",
    "import numpy as np\n",
    "import seaborn as sns\n",
    "import matplotlib.pyplot as plt\n",
    "import plotly_express as px\n",
    "import pprint\n",
    "import math\n",
    "import warnings\n",
    "warnings.filterwarnings(\"ignore\")\n",
    "import os\n",
    "\n",
    "df = pd.read_csv(\"E:\\MachineLearning\\DecisionTree\\DecisionTreesFoundations\\BreastCancer.csv\")\n",
    "print(df.head())"
   ]
  },
  {
   "cell_type": "code",
   "execution_count": null,
   "id": "e3c0c2c8",
   "metadata": {},
   "outputs": [],
   "source": [
    "print(\"columns are : \",df.columns)\n",
    "print(\"_\"*40)\n",
    "print(\"shape of dataframe is : \",df.shape)\n",
    "print(\"_\"*40)\n",
    "print(\"information is \",df.info())\n",
    "print(\"_\"*40)\n",
    "print(\"check null values \\n\",df.isnull().sum())"
   ]
  },
  {
   "cell_type": "code",
   "execution_count": null,
   "id": "44ac363b",
   "metadata": {},
   "outputs": [],
   "source": [
    "print(\"dropping the columns \\n\")\n",
    "df.drop(columns ='id',axis =1,inplace = True)\n",
    "print(\"shape\",df.shape)"
   ]
  },
  {
   "cell_type": "code",
   "execution_count": null,
   "id": "ed6ce5c2",
   "metadata": {},
   "outputs": [],
   "source": [
    "print(\"Unique values in output label \\n\")\n",
    "df['diagnosis'].unique()"
   ]
  },
  {
   "cell_type": "code",
   "execution_count": null,
   "id": "b0a5ef22",
   "metadata": {},
   "outputs": [],
   "source": [
    "# output label/target variable/Y-Label- Data Distribution\n",
    "# pi-plot : proportion of M V/S B\n",
    "px.pie(df,\n",
    "       'diagnosis',\n",
    "       color= 'diagnosis',\n",
    "       color_discrete_sequence= ['#007500','#5CFF5C'],\n",
    "       title = 'Data Distribution')"
   ]
  },
  {
   "cell_type": "code",
   "execution_count": null,
   "id": "2ece739b",
   "metadata": {},
   "outputs": [],
   "source": [
    "# visually compare the distribution of each feature\n",
    "# for malignant tumors vs bening\n",
    "# for a given feature ,do its values tends to be different for malignant benign cases\n",
    "# for loop auto iterates first five columns/features in the dataframe\n",
    "for column in df.drop(\"diagnosis\",axis=1).columns[:5]:\n",
    "    fig=px.box(data_frame=df,\n",
    "               x='diagnosis',\n",
    "               color='diagnosis',\n",
    "               y=column,\n",
    "               color_discrete_sequence= ['#007500','#5CFF5C'],\n",
    "               orientation ='v')\n",
    "    fig.show()"
   ]
  },
  {
   "cell_type": "code",
   "execution_count": null,
   "id": "f5e682e5",
   "metadata": {},
   "outputs": [],
   "source": [
    "df.columns"
   ]
  },
  {
   "cell_type": "code",
   "execution_count": null,
   "id": "10f91083",
   "metadata": {},
   "outputs": [],
   "source": [
    "for column in df.drop('diagnosis',axis=1).columns[5:10]:\n",
    "    fig = px.scatter(data_frame = df,\n",
    "                     x=column,\n",
    "                     color='diagnosis',\n",
    "                     color_discrete_sequence=['#007500','#5CFF5C'],\n",
    "                     orientation='v')\n",
    "    fig.show()"
   ]
  },
  {
   "cell_type": "code",
   "execution_count": null,
   "id": "05c9e040",
   "metadata": {},
   "outputs": [],
   "source": [
    "## creating correlation with the target variable\n",
    "# correlation lies between -1 to 1"
   ]
  },
  {
   "cell_type": "code",
   "execution_count": null,
   "id": "43875ff5",
   "metadata": {},
   "outputs": [],
   "source": [
    "# diagnosis : M or B : Categorical\n",
    "# encode : 1 or 0 : categorical\n",
    "df['diagnosis']=(df['diagnosis']=='M').astype(int)\n",
    "# this line converts the categorical feature into numerical\n",
    "# setting M =1 then B = 0\n",
    "# take the correlation\n",
    "corr = df.corr()\n",
    "plt.figure(figsize= (20,20))\n",
    "# heatmap\n",
    "sns.heatmap(corr,cmap='viridis_r',annot=True)\n",
    "plt.show()"
   ]
  },
  {
   "cell_type": "code",
   "execution_count": null,
   "id": "a192558c",
   "metadata": {},
   "outputs": [],
   "source": [
    "# we should now choose which features are good enough predictors to be used to train the model\n",
    "# get the absolute correlation\n",
    "cor_target = abs(corr['diagnosis'])\n",
    "# select better correlated features\n",
    "# this is the filtering step\n",
    "# it creates a new list of relevant features\n",
    "relevant_features = cor_target[cor_target>0.25]\n",
    "print(relevant_features)\n",
    "# 0.25 is user defined. it is the hyper-parameter value.\n"
   ]
  },
  {
   "cell_type": "code",
   "execution_count": null,
   "id": "273cef5c",
   "metadata": {},
   "outputs": [],
   "source": [
    "\n",
    "# collect the names of features\n",
    "# list comprehension\n",
    "names = [index for index,value in relevant_features.items()]\n",
    "# drop the target variable from the resluts\n",
    "names.remove(\"diagnosis\")\n",
    "pprint.pprint(names)"
   ]
  }
 ],
 "metadata": {
  "kernelspec": {
   "display_name": "Python 3",
   "language": "python",
   "name": "python3"
  },
  "language_info": {
   "codemirror_mode": {
    "name": "ipython",
    "version": 3
   },
   "file_extension": ".py",
   "mimetype": "text/x-python",
   "name": "python",
   "nbconvert_exporter": "python",
   "pygments_lexer": "ipython3",
   "version": "3.13.3"
  }
 },
 "nbformat": 4,
 "nbformat_minor": 5
}
